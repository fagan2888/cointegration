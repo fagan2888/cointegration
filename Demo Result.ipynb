{
 "cells": [
  {
   "cell_type": "code",
   "execution_count": 1,
   "metadata": {},
   "outputs": [],
   "source": [
    "import bt\n",
    "import sys\n",
    "import glob\n",
    "import pickle\n",
    "import numpy as np\n",
    "import pandas as pd\n",
    "import scipy.signal as signal\n",
    "from scipy.stats import boxcox\n",
    "import matplotlib.pyplot as plt\n",
    "from statsmodels.tsa.stattools import coint, adfuller\n",
    "from statsmodels.graphics.tsaplots import plot_acf, plot_pacf\n",
    "%matplotlib inline"
   ]
  },
  {
   "cell_type": "markdown",
   "metadata": {},
   "source": [
    "## Import Data"
   ]
  },
  {
   "cell_type": "code",
   "execution_count": 2,
   "metadata": {},
   "outputs": [],
   "source": [
    "# concatenate & preprocessing data\n",
    "dfList = []\n",
    "for file in glob.glob(sys.path[0] + '/dataset/*.csv'):\n",
    "    tmp = pd.read_csv(file, index_col=0)[['Value_Close']]\n",
    "    tmp.rename(columns={'Value_Close': file.split('-')[0].split('/')[-1]}, inplace=True)\n",
    "    tmp.index = pd.to_datetime(tmp.index)\n",
    "    dfList.append(tmp)\n",
    "df = pd.concat(dfList, axis=1)\n",
    "df = df.resample('1D').last()\n",
    "df.fillna(method='ffill', inplace=True)"
   ]
  },
  {
   "cell_type": "markdown",
   "metadata": {},
   "source": [
    "### augmented Engle-Granger two-step cointegration test\n",
    "[statsmodels.tsa.stattools.coint](https://www.statsmodels.org/stable/generated/statsmodels.tsa.stattools.coint.html)"
   ]
  },
  {
   "cell_type": "code",
   "execution_count": 3,
   "metadata": {},
   "outputs": [
    {
     "name": "stdout",
     "output_type": "stream",
     "text": [
      "p-value: 0.02378\n",
      "\n",
      "critical values \n",
      "-3.89795 at 1percent\n",
      "-3.33697 at 5percent\n",
      "-3.04504 at 10percent\n"
     ]
    }
   ],
   "source": [
    "stat, p, cp = coint(df[['FXF1']], df[['EXF1']])\n",
    "print('p-value: %.5f\\n' % p)\n",
    "print('critical values \\n%.5f at 1percent\\n%.5f at 5percent\\n%.5f at 10percent' \n",
    "      % (cp[0], cp[1], cp[2])\n",
    ")"
   ]
  },
  {
   "cell_type": "markdown",
   "metadata": {},
   "source": [
    "### Augmented Dicky Fuller's Test"
   ]
  },
  {
   "cell_type": "code",
   "execution_count": null,
   "metadata": {},
   "outputs": [
    {
     "name": "stdout",
     "output_type": "stream",
     "text": [
      "FXF1 adf p-value: 0.05286\n",
      "\n"
     ]
    }
   ],
   "source": [
    "_, p, _, _, _, _ = adfuller(df['FXF1'])\n",
    "print('FXF1 adf p-value: %.5f\\n' % p)\n",
    "plot_acf(df['FXF1'])\n",
    "plot_pacf(df['FXF1'])"
   ]
  },
  {
   "cell_type": "code",
   "execution_count": null,
   "metadata": {},
   "outputs": [],
   "source": [
    "_, p, _, _, _, _ = adfuller(df['EXF1'])\n",
    "print('EXF1 adf p-value: %.5f\\n' % p)\n",
    "plot_acf(df['EXF1'])\n",
    "plot_pacf(df['EXF1'])"
   ]
  },
  {
   "cell_type": "markdown",
   "metadata": {},
   "source": [
    "### Cross Correlation Plot"
   ]
  },
  {
   "cell_type": "code",
   "execution_count": null,
   "metadata": {},
   "outputs": [],
   "source": [
    "def ccf(x, y):\n",
    "    if isinstance(x, (pd.Series, pd.DataFrame)):\n",
    "        x = x.values\n",
    "    if isinstance(y, (pd.Series, pd.DataFrame)):\n",
    "        y = y.values\n",
    "        \n",
    "    nom = signal.correlate(x-np.mean(x), y-np.mean(y), method='direct')\n",
    "    denom = np.std(x)*np.std(y)*len(x)\n",
    "    return nom/denom\n",
    "\n",
    "def plot_ccf(x, y, maxlags=20):\n",
    "    result = ccf(x, y)\n",
    "    lo = (len(result)-1)//2-maxlags #just get +/- 10 elements around lag 0\n",
    "    hi = (len(result)-1)//2+(maxlags+1)\n",
    "\n",
    "    #Make a plot like ccf\n",
    "    f, ax = plt.subplots(figsize=(30, 10))\n",
    "    ax.stem(np.arange(-1*maxlags,maxlags+1), result[lo:hi], linefmt='b-', markerfmt='bo', basefmt='r-')\n",
    "    ax.set_xticks(np.arange(-1*maxlags,maxlags+1))\n",
    "    plt.title('CCF - ' + x.name + ' vs. ' + y.name)\n",
    "    plt.show()"
   ]
  },
  {
   "cell_type": "code",
   "execution_count": null,
   "metadata": {},
   "outputs": [],
   "source": [
    "fx, _ = boxcox(df['FXF1'])\n",
    "ex, _ = boxcox(df['EXF1'])\n",
    "fx = pd.Series(fx, index=df.index, name='FXF1')\n",
    "ex = pd.Series(ex, index=df.index, name='EXF1')\n",
    "plot_ccf(fx, ex)"
   ]
  },
  {
   "cell_type": "code",
   "execution_count": null,
   "metadata": {},
   "outputs": [],
   "source": []
  },
  {
   "cell_type": "code",
   "execution_count": null,
   "metadata": {},
   "outputs": [],
   "source": []
  },
  {
   "cell_type": "markdown",
   "metadata": {},
   "source": [
    "## Listing all Result of ExF strategy"
   ]
  },
  {
   "cell_type": "code",
   "execution_count": null,
   "metadata": {},
   "outputs": [],
   "source": [
    "with open(sys.path[0] + '/result/ExF-2019-05-24 11:33:40.619394.pkl', 'rb') as f:\n",
    "    ExF = pickle.load(f)"
   ]
  },
  {
   "cell_type": "code",
   "execution_count": null,
   "metadata": {},
   "outputs": [],
   "source": [
    "# Backtest Statistics Table\n",
    "'''\n",
    "CAGR: compound annual growth rate\n",
    "'''\n",
    "ExF.display()"
   ]
  },
  {
   "cell_type": "code",
   "execution_count": null,
   "metadata": {},
   "outputs": [],
   "source": [
    "# Equity Plot\n",
    "ExF.plot()\n",
    "plt.plot(plt.xlim(), plt.ylim(), 'k-', color = 'r')\n",
    "plt.ylim(plt.ylim())\n",
    "plt.xlim(plt.xlim())"
   ]
  },
  {
   "cell_type": "code",
   "execution_count": null,
   "metadata": {},
   "outputs": [],
   "source": [
    "# return in each month\n",
    "list(ExF.values())[0].return_table"
   ]
  },
  {
   "cell_type": "code",
   "execution_count": null,
   "metadata": {},
   "outputs": [],
   "source": [
    "# return histogram\n",
    "ExF.plot_histogram()"
   ]
  },
  {
   "cell_type": "code",
   "execution_count": null,
   "metadata": {},
   "outputs": [],
   "source": [
    "ExF.plot_weights()\n",
    "plt.title('Weights Plot (including total weights)')\n",
    "\n",
    "ExF.plot_security_weights()\n",
    "plt.title('Weights Plot (excluding total weights)')"
   ]
  },
  {
   "cell_type": "code",
   "execution_count": null,
   "metadata": {},
   "outputs": [],
   "source": [
    "# DropDown Ratio Plot\n",
    "ExF.prices.to_drawdown_series().plot(figsize=(20, 7))\n",
    "plt.title('DropDown Ratio')"
   ]
  },
  {
   "cell_type": "code",
   "execution_count": null,
   "metadata": {},
   "outputs": [],
   "source": [
    "# list all transactions\n",
    "ExF.get_transactions().head(8)"
   ]
  },
  {
   "cell_type": "code",
   "execution_count": null,
   "metadata": {},
   "outputs": [],
   "source": []
  },
  {
   "cell_type": "code",
   "execution_count": null,
   "metadata": {},
   "outputs": [],
   "source": []
  },
  {
   "cell_type": "markdown",
   "metadata": {},
   "source": [
    "## Listing All Result of EnF strategy"
   ]
  },
  {
   "cell_type": "code",
   "execution_count": null,
   "metadata": {},
   "outputs": [],
   "source": [
    "with open(sys.path[0] + '/result/EnF-2019-05-24 11:32:54.964336.pkl', 'rb') as f:\n",
    "    EnF = pickle.load(f)"
   ]
  },
  {
   "cell_type": "code",
   "execution_count": null,
   "metadata": {},
   "outputs": [],
   "source": [
    "# Backtest Statistics Table\n",
    "'''\n",
    "CAGR: compound annual growth rate\n",
    "'''\n",
    "EnF.display()"
   ]
  },
  {
   "cell_type": "code",
   "execution_count": null,
   "metadata": {},
   "outputs": [],
   "source": [
    "# Equity Plot\n",
    "EnF.plot()\n",
    "plt.plot(plt.xlim(), plt.ylim(), 'k-', color = 'r')\n",
    "plt.ylim(plt.ylim())\n",
    "plt.xlim(plt.xlim())"
   ]
  },
  {
   "cell_type": "code",
   "execution_count": null,
   "metadata": {},
   "outputs": [],
   "source": [
    "# return in each month\n",
    "list(EnF.values())[0].return_table"
   ]
  },
  {
   "cell_type": "code",
   "execution_count": null,
   "metadata": {},
   "outputs": [],
   "source": [
    "# return histogram\n",
    "EnF.plot_histogram()"
   ]
  },
  {
   "cell_type": "code",
   "execution_count": null,
   "metadata": {},
   "outputs": [],
   "source": [
    "EnF.plot_weights()\n",
    "plt.title('Weights Plot (including total weights)')\n",
    "\n",
    "EnF.plot_security_weights()\n",
    "plt.title('Weights Plot (excluding total weights)')"
   ]
  },
  {
   "cell_type": "code",
   "execution_count": null,
   "metadata": {},
   "outputs": [],
   "source": [
    "# DropDown Ratio Plot\n",
    "EnF.prices.to_drawdown_series().plot(figsize=(20, 7))\n",
    "plt.title('DropDown Ratio')"
   ]
  },
  {
   "cell_type": "code",
   "execution_count": null,
   "metadata": {},
   "outputs": [],
   "source": [
    "# list all transactions\n",
    "EnF.get_transactions().head(8)"
   ]
  },
  {
   "cell_type": "code",
   "execution_count": null,
   "metadata": {},
   "outputs": [],
   "source": []
  },
  {
   "cell_type": "code",
   "execution_count": null,
   "metadata": {},
   "outputs": [],
   "source": []
  },
  {
   "cell_type": "markdown",
   "metadata": {},
   "source": [
    "## Combine Stratgies"
   ]
  },
  {
   "cell_type": "code",
   "execution_count": null,
   "metadata": {},
   "outputs": [],
   "source": [
    "with open(sys.path[0] + '/trade/EnF-2019-05-24 11:32:54.964336.pkl', 'rb') as f:\n",
    "    Ntrade = pickle.load(f)\n",
    "with open(sys.path[0] + '/trade/ExF-2019-05-24 11:33:40.619394.pkl', 'rb') as f:\n",
    "    Xtrade = pickle.load(f)"
   ]
  },
  {
   "cell_type": "code",
   "execution_count": null,
   "metadata": {},
   "outputs": [],
   "source": [
    "combine = bt.run(Ntrade, Xtrade)"
   ]
  },
  {
   "cell_type": "code",
   "execution_count": null,
   "metadata": {},
   "outputs": [],
   "source": [
    "# Backtest Statistics Table\n",
    "combine.display()"
   ]
  },
  {
   "cell_type": "code",
   "execution_count": null,
   "metadata": {},
   "outputs": [],
   "source": [
    "combine.plot_correlation()"
   ]
  },
  {
   "cell_type": "code",
   "execution_count": null,
   "metadata": {},
   "outputs": [],
   "source": [
    "# 組合策略\n",
    "# 根據 1/波動率 給予權重\n",
    "data = bt.merge(*[v.prices for v in combine.values()])\n",
    "s = bt.Strategy('s', [bt.algos.SelectAll(),\n",
    "                      bt.algos.WeighInvVol(),\n",
    "                      bt.algos.Rebalance()])\n",
    "\n",
    "# create and run\n",
    "t = bt.Backtest(s, data)\n",
    "res = bt.run(t)"
   ]
  },
  {
   "cell_type": "code",
   "execution_count": null,
   "metadata": {},
   "outputs": [],
   "source": [
    "# Equity Plot\n",
    "res.plot()\n",
    "plt.plot(plt.xlim(), plt.ylim(), 'k-', color = 'r')\n",
    "plt.ylim(plt.ylim())\n",
    "plt.xlim(plt.xlim())"
   ]
  },
  {
   "cell_type": "code",
   "execution_count": null,
   "metadata": {},
   "outputs": [],
   "source": [
    "# return in each month\n",
    "list(res.values())[0].return_table"
   ]
  },
  {
   "cell_type": "code",
   "execution_count": null,
   "metadata": {},
   "outputs": [],
   "source": [
    "# return histogram\n",
    "res.plot_histogram()"
   ]
  },
  {
   "cell_type": "code",
   "execution_count": null,
   "metadata": {},
   "outputs": [],
   "source": [
    "res.plot_weights()\n",
    "plt.title('Weights Plot (including total weights)')\n",
    "\n",
    "res.plot_security_weights()\n",
    "plt.title('Weights Plot (excluding total weights)')"
   ]
  },
  {
   "cell_type": "code",
   "execution_count": null,
   "metadata": {},
   "outputs": [],
   "source": [
    "# DropDown Ratio Plot\n",
    "res.prices.to_drawdown_series().plot(figsize=(20, 7))\n",
    "plt.title('DropDown Ratio')"
   ]
  },
  {
   "cell_type": "code",
   "execution_count": null,
   "metadata": {},
   "outputs": [],
   "source": [
    "# list all transactions\n",
    "res.get_transactions().head(8)"
   ]
  },
  {
   "cell_type": "code",
   "execution_count": null,
   "metadata": {},
   "outputs": [],
   "source": []
  }
 ],
 "metadata": {
  "kernelspec": {
   "display_name": "Python 3",
   "language": "python",
   "name": "python3"
  },
  "language_info": {
   "codemirror_mode": {
    "name": "ipython",
    "version": 3
   },
   "file_extension": ".py",
   "mimetype": "text/x-python",
   "name": "python",
   "nbconvert_exporter": "python",
   "pygments_lexer": "ipython3",
   "version": "3.7.1"
  }
 },
 "nbformat": 4,
 "nbformat_minor": 2
}
